{
  "nbformat": 4,
  "nbformat_minor": 0,
  "metadata": {
    "colab": {
      "name": "assignment3.ipynb",
      "provenance": []
    },
    "kernelspec": {
      "name": "python3",
      "display_name": "Python 3"
    },
    "language_info": {
      "name": "python"
    }
  },
  "cells": [
    {
      "cell_type": "markdown",
      "metadata": {
        "id": "10T-1CKxWMSL"
      },
      "source": [
        "# ***Assignment 3***"
      ]
    },
    {
      "cell_type": "markdown",
      "metadata": {
        "id": "ocgXcIHrWGKj"
      },
      "source": [
        "1.1 Write a Python Program to implement your own myreduce() function which works exactly like Python's built-in function reduce()"
      ]
    },
    {
      "cell_type": "code",
      "metadata": {
        "id": "kk398SY4mEtt"
      },
      "source": [
        "## Defining  myreduce function\n",
        "def myreduce(funct, list_eval):\n",
        "    i = iter(list_eval)\n",
        "    val = next(i)\n",
        "    for l in i:\n",
        "       val =  funct(val, l)\n",
        "    return val\n"
      ],
      "execution_count": 1,
      "outputs": []
    },
    {
      "cell_type": "code",
      "metadata": {
        "id": "luPBwrUSrSQo"
      },
      "source": [
        "## Defining add function\n",
        "def myadd(a, b):\n",
        "    return a + b"
      ],
      "execution_count": 2,
      "outputs": []
    },
    {
      "cell_type": "code",
      "metadata": {
        "colab": {
          "base_uri": "https://localhost:8080/"
        },
        "id": "xPBC08rrmMwp",
        "outputId": "8bfd44df-ab52-4d54-c52e-980965fcb486"
      },
      "source": [
        "mylist = [1,2,3,4,5]\n",
        "myreduce(myadd, lista)"
      ],
      "execution_count": 4,
      "outputs": [
        {
          "output_type": "execute_result",
          "data": {
            "text/plain": [
              "15"
            ]
          },
          "metadata": {
            "tags": []
          },
          "execution_count": 4
        }
      ]
    },
    {
      "cell_type": "markdown",
      "metadata": {
        "id": "ACdu9Sm6WxO_"
      },
      "source": [
        "1.2 Write a Python program to implement your own myfilter() function which works exactly like Python's built-in function filter()"
      ]
    },
    {
      "cell_type": "code",
      "metadata": {
        "id": "3ZpuwFQsXXZ9"
      },
      "source": [
        "def is_even(x):\n",
        "    if x % 2 == 0:\n",
        "        return True\n",
        "    else:\n",
        "        return False\n",
        "\n",
        "## Defining myfilter function\n",
        "def myfilter(funct, list_eval):\n",
        "   l = []\n",
        "   for i in list_eval:\n",
        "         \n",
        "         if funct(i) == True:\n",
        "            l.append(i)\n",
        "   return l         \n"
      ],
      "execution_count": 37,
      "outputs": []
    },
    {
      "cell_type": "code",
      "metadata": {
        "colab": {
          "base_uri": "https://localhost:8080/"
        },
        "id": "0GJTNwmIa8tN",
        "outputId": "88578817-b1c3-446e-f18f-85878e43dbd7"
      },
      "source": [
        "myfilter(is_even, [1, 3, 10, 45, 6, 50])"
      ],
      "execution_count": 38,
      "outputs": [
        {
          "output_type": "execute_result",
          "data": {
            "text/plain": [
              "[10, 6, 50]"
            ]
          },
          "metadata": {
            "tags": []
          },
          "execution_count": 38
        }
      ]
    },
    {
      "cell_type": "markdown",
      "metadata": {
        "id": "vXXv7MF2bF-J"
      },
      "source": [
        "**2. Implement List comprehensions to produce the following lists.**"
      ]
    },
    {
      "cell_type": "code",
      "metadata": {
        "id": "Rv3wr40Xxj4b",
        "colab": {
          "base_uri": "https://localhost:8080/"
        },
        "outputId": "3bef1b30-a4c2-487c-858b-51e3e3e7aed3"
      },
      "source": [
        "[ i*num  for i in [ 'x', 'y', 'z'] for num in range(1,4)]"
      ],
      "execution_count": null,
      "outputs": [
        {
          "output_type": "execute_result",
          "data": {
            "text/plain": [
              "['x', 'xx', 'xxx', 'y', 'yy', 'yyy', 'z', 'zz', 'zzz']"
            ]
          },
          "metadata": {
            "tags": []
          },
          "execution_count": 10
        }
      ]
    },
    {
      "cell_type": "code",
      "metadata": {
        "colab": {
          "base_uri": "https://localhost:8080/"
        },
        "id": "CclCx-Y5E68U",
        "outputId": "6e8a14b1-9ea8-441a-96dd-8caeb7bbf933"
      },
      "source": [
        "[ i*num for num in range(1,5) for i in [ 'x', 'y', 'z'] ]"
      ],
      "execution_count": 12,
      "outputs": [
        {
          "output_type": "execute_result",
          "data": {
            "text/plain": [
              "['x', 'y', 'z', 'xx', 'yy', 'zz', 'xxx', 'yyy', 'zzz', 'xxxx', 'yyyy', 'zzzz']"
            ]
          },
          "metadata": {
            "tags": []
          },
          "execution_count": 12
        }
      ]
    },
    {
      "cell_type": "code",
      "metadata": {
        "colab": {
          "base_uri": "https://localhost:8080/"
        },
        "id": "ubFlqoURGlyL",
        "outputId": "5b8972c6-1dd5-4a55-a471-7d665838e2a2"
      },
      "source": [
        "[[i] for i in range(2,7)]"
      ],
      "execution_count": 14,
      "outputs": [
        {
          "output_type": "execute_result",
          "data": {
            "text/plain": [
              "[[2], [3], [4], [5], [6]]"
            ]
          },
          "metadata": {
            "tags": []
          },
          "execution_count": 14
        }
      ]
    },
    {
      "cell_type": "code",
      "metadata": {
        "colab": {
          "base_uri": "https://localhost:8080/"
        },
        "id": "uKLFv5JJHYWL",
        "outputId": "a6492804-e214-4dcb-f399-a2366bd92f0b"
      },
      "source": [
        "[ [j] for i in range(2,5) for j in range(i, i + 3)]\n",
        "        "
      ],
      "execution_count": 18,
      "outputs": [
        {
          "output_type": "execute_result",
          "data": {
            "text/plain": [
              "[[2], [3], [4], [3], [4], [5], [4], [5], [6]]"
            ]
          },
          "metadata": {
            "tags": []
          },
          "execution_count": 18
        }
      ]
    },
    {
      "cell_type": "code",
      "metadata": {
        "colab": {
          "base_uri": "https://localhost:8080/"
        },
        "id": "WXmZdjxRKJRM",
        "outputId": "afe34d4b-cff1-424d-b8d3-cb6721f9cb5c"
      },
      "source": [
        "[ list(range(i, i + 4)) for i in range(2,6)]"
      ],
      "execution_count": 25,
      "outputs": [
        {
          "output_type": "execute_result",
          "data": {
            "text/plain": [
              "[[2, 3, 4, 5], [3, 4, 5, 6], [4, 5, 6, 7], [5, 6, 7, 8]]"
            ]
          },
          "metadata": {
            "tags": []
          },
          "execution_count": 25
        }
      ]
    },
    {
      "cell_type": "code",
      "metadata": {
        "colab": {
          "base_uri": "https://localhost:8080/"
        },
        "id": "2iDSozbzRfBQ",
        "outputId": "fd3f17d8-ad1a-4c34-cfe2-bfc44d603a76"
      },
      "source": [
        "[ (j,i) for i in range(1,4) for j in range(1,4)]\n"
      ],
      "execution_count": 29,
      "outputs": [
        {
          "output_type": "execute_result",
          "data": {
            "text/plain": [
              "[(1, 1), (2, 1), (3, 1), (1, 2), (2, 2), (3, 2), (1, 3), (2, 3), (3, 3)]"
            ]
          },
          "metadata": {
            "tags": []
          },
          "execution_count": 29
        }
      ]
    },
    {
      "cell_type": "code",
      "metadata": {
        "id": "hygG7mNPSFYy"
      },
      "source": [
        ""
      ],
      "execution_count": null,
      "outputs": []
    }
  ]
}