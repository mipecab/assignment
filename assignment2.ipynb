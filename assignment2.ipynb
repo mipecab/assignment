{
  "nbformat": 4,
  "nbformat_minor": 0,
  "metadata": {
    "colab": {
      "name": "Assignment2.ipynb",
      "provenance": []
    },
    "kernelspec": {
      "display_name": "Python 3",
      "name": "python3"
    },
    "language_info": {
      "name": "python"
    }
  },
  "cells": [
    {
      "cell_type": "markdown",
      "metadata": {
        "id": "dtspbNvfjxj6"
      },
      "source": [
        "# Assignment # 2"
      ]
    },
    {
      "cell_type": "markdown",
      "metadata": {
        "id": "1HGrfGEjiaxu"
      },
      "source": [
        "1. . Create the below pattern using nested for loop in Python\n",
        "\n",
        "![image.png](data:image/png;base64,iVBORw0KGgoAAAANSUhEUgAAAGkAAADICAYAAADrws9xAAAFRUlEQVR4Ae2dMUorURiFBbvsQgTt3ICFhOzATtDOVrAxZVKLbTAWauEOQh6uIIXIA9ssQMt0CanC/whvATN3HOaeM/lefSdz7vflBIsDby/4J09gTz4hAQNJBl8CJCHJgIBBRJqEJAMCBhFpEpIMCBhEpElIMiBgEJEmIcmAgEFEmoQkAwIGEWkSkgwIGESkSUhKJbCKyc1p3P5Zpz7Y6vMyTVrOxjF8nMbo4iSuxpMYDZ5itmw1+9KXE5G0icXnWwyve3HY2Y/OwVlc9p/jY7EpfZE2HxSRtEW8jq+HXhz3zqN71I37v6s2c0+6m46kzU+8D/vxMl/H/PUuBtPvoEf/XepISvpu7dZhJBn4RhKSDAgYRKRJSDIgYBCRJiHJgIBBRJqEJAMCBhFpEpIMCBhEpElIMiBgEJEmISmVQMmNw2oSN6e3sStTCJkmlds4LGM2HsbjdBQXJ1cxnoxi8DRL/SbYnReRVHLjsFnE59swrnuH0dnvxMHZZfSfP+ygpwYWkbSNXXLjsP6Kh95x9M67cdS9j12YQuhIKrlx2Py8x7D/EvP1PF7vBjH9bv8SQkdS6m/ADp1HkoFsJCHJgIBBRJqEJAMCBhFpEpIMCBhEpElIMiBgEJEmIcmAgEFEmoQkAwIGEWkSklIJ1LxxaMkWQqZJ9W4c2rWFEJFU88ahZVsIEUnbn8WaNw4t2kLoSKp549CmLYSOpNS/MXboPJIMZCMJSQYEDCLSJCQZEDCISJOQZEDAICJNQpIBAYOINAlJBgQMItIkJBkQMIhIk5CUSiDTxkF8CyHTpDwbB48thIikTBsHky2EiKTtz2KmjYPBFkJHUqaNg8MWQkdS6t8YO3QeSQaykYQkAwIGEWkSkgwIGESkSUgyIGAQkSYhyYCAQUSahCQDAgYRaRKSDAgYRKRJSEoloL1xWE1u4vT2T6xTr/XL8zJNkt44LGcxHj7GdHQRJ1fjmIwG8TRb/hJ9+cdFJGlvHDaLz3gbXkfvsBP7nYM4u+zH88eiPOVfnhSRtL2F9sZh/fUQveNenHePonv/N1a/BJ/yuI4k6Y3DJn7eh9F/mcd6/hp3g2k0+V9k6EhK+Wrt2FkkGQhHEpIMCBhEpElIMiBgEJEmIcmAgEFEmoQkAwIGEWkSkgwIGESkSUgyIGAQkSYhKZWA9sYh9TZ1nZdpkvTGoS7aFT9HRJL2xqEi29oeE5G0vY/2xqE24hU+SEeS9MahAtkaH9GRVOOl2vZRSDIwiiQkGRAwiEiTkGRAwCAiTUKSAQGDiDQJSQYEDCLSJCQZEDCISJOQZEDAICJNQlIqgUwbh9SYDZ+XaVKejUPDtCu+TkRSpo1DRWhNPyYiaXvtTBuHpolXeJ+OpEwbhwrMGn9ER1LjV/d5IZIMXCEJSQYEDCLSJCQZEDCISJOQZEDAICJNQpIBAYOINAlJBgQMItIkJBkQMIhIk5CUSqDmjUPq60XPyzSp3o2DKO2KsUQk1bxxqAhD9TERSVs8NW8cVIlXyKUjqeaNQwUWso/oSJJFlD8YkvI7KEyApEJE+Q8gKb+DwgRIKkSU/wCS8jsoTICkQkT5DyApv4PCBEgqRJT/AJLyOyhMgKRCRPkPICm/g8IESCpElP8AkvI7KEyApEJE+Q+ISSq5ccjPrdEEMpLKbRwaZSPzMhFJJTcOMtiaDSIiaXvpkhuHZvlIvE1HUsmNgwS1hkPoSGr44k6vQ5KBLSQhyYCAQUSahCQDAgYRaRKSDAgYRKRJSDIgYBCRJiHJgIBBRJqEJAMCBhFpEpIMCBhEpEkGkv4B7bsHLzHWRKEAAAAASUVORK5CYII=)"
      ]
    },
    {
      "cell_type": "code",
      "metadata": {
        "colab": {
          "base_uri": "https://localhost:8080/"
        },
        "id": "dLVVwl3gBQq4",
        "outputId": "4be00ae9-2852-4560-8b59-b847c470159f"
      },
      "source": [
        "for i in range(1,6):\n",
        "        for j in range(i):\n",
        "            print(\"* \", end='')\n",
        "        print()\n",
        "else:\n",
        "    for k in range(i-1,0,-1):\n",
        "        for j in range(k):\n",
        "            print(\"* \", end='')\n",
        "        print()\n"
      ],
      "execution_count": null,
      "outputs": [
        {
          "output_type": "stream",
          "text": [
            "* \n",
            "* * \n",
            "* * * \n",
            "* * * * \n",
            "* * * * * \n",
            "* * * * \n",
            "* * * \n",
            "* * \n",
            "* \n"
          ],
          "name": "stdout"
        }
      ]
    },
    {
      "cell_type": "markdown",
      "metadata": {
        "id": "w6yOpGb-jASN"
      },
      "source": [
        "2. Write a Python program to reverse a word after accepting the input from the user"
      ]
    },
    {
      "cell_type": "code",
      "metadata": {
        "id": "wanbeJGNFn3v",
        "colab": {
          "base_uri": "https://localhost:8080/"
        },
        "outputId": "799603f6-a721-4d0f-bc3e-6a1654dad780"
      },
      "source": [
        "word = input('Input word: ')\n",
        "print('Output: {}'.format(word[::-1]))"
      ],
      "execution_count": 3,
      "outputs": [
        {
          "output_type": "stream",
          "text": [
            "Input word: ineuron\n",
            "Output: norueni\n"
          ],
          "name": "stdout"
        }
      ]
    },
    {
      "cell_type": "code",
      "metadata": {
        "id": "Wi5J-c6MjUXX"
      },
      "source": [
        ""
      ],
      "execution_count": 1,
      "outputs": []
    }
  ]
}